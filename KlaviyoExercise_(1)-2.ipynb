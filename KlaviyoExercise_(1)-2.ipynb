{
  "nbformat": 4,
  "nbformat_minor": 0,
  "metadata": {
    "kernelspec": {
      "display_name": "Python 3",
      "language": "python",
      "name": "python3"
    },
    "language_info": {
      "codemirror_mode": {
        "name": "ipython",
        "version": 3
      },
      "file_extension": ".py",
      "mimetype": "text/x-python",
      "name": "python",
      "nbconvert_exporter": "python",
      "pygments_lexer": "ipython3",
      "version": "3.7.0"
    },
    "toc": {
      "base_numbering": 1,
      "nav_menu": {},
      "number_sections": true,
      "sideBar": true,
      "skip_h1_title": true,
      "title_cell": "Table of Contents",
      "title_sidebar": "Contents",
      "toc_cell": true,
      "toc_position": {},
      "toc_section_display": true,
      "toc_window_display": true
    },
    "varInspector": {
      "cols": {
        "lenName": 16,
        "lenType": 16,
        "lenVar": 40
      },
      "kernels_config": {
        "python": {
          "delete_cmd_postfix": "",
          "delete_cmd_prefix": "del ",
          "library": "var_list.py",
          "varRefreshCmd": "print(var_dic_list())"
        },
        "r": {
          "delete_cmd_postfix": ") ",
          "delete_cmd_prefix": "rm(",
          "library": "var_list.r",
          "varRefreshCmd": "cat(var_dic_list()) "
        }
      },
      "types_to_exclude": [
        "module",
        "function",
        "builtin_function_or_method",
        "instance",
        "_Feature"
      ],
      "window_display": false
    },
    "colab": {
      "name": "KlaviyoExercise_(1).ipynb",
      "provenance": [],
      "toc_visible": true
    }
  },
  "cells": [
    {
      "cell_type": "markdown",
      "metadata": {
        "toc": true,
        "id": "JbqinG1_elBV"
      },
      "source": [
        "<h1>Table of Contents<span class=\"tocSkip\"></span></h1>\n",
        "<div class=\"toc\"><ul class=\"toc-item\"><li><span><a href=\"#Klaviyo-Exercise\" data-toc-modified-id=\"Klaviyo-Exercise-1\"><span class=\"toc-item-num\">1&nbsp;&nbsp;</span>Klaviyo Exercise</a></span></li><li><span><a href=\"#Exercise-1\" data-toc-modified-id=\"Exercise-1-2\"><span class=\"toc-item-num\">2&nbsp;&nbsp;</span>Exercise 1</a></span></li><li><span><a href=\"#Exercise-2\" data-toc-modified-id=\"Exercise-2-3\"><span class=\"toc-item-num\">3&nbsp;&nbsp;</span>Exercise 2</a></span></li><li><span><a href=\"#Exercise-3\" data-toc-modified-id=\"Exercise-3-4\"><span class=\"toc-item-num\">4&nbsp;&nbsp;</span>Exercise 3</a></span></li><li><span><a href=\"#Person-Class\" data-toc-modified-id=\"Person-Class-5\"><span class=\"toc-item-num\">5&nbsp;&nbsp;</span>Person Class</a></span></li><li><span><a href=\"#Exercise-4\" data-toc-modified-id=\"Exercise-4-6\"><span class=\"toc-item-num\">6&nbsp;&nbsp;</span>Exercise 4</a></span></li><span class=\"toc-item-num\">&nbsp;&nbsp;</span></li></ul></div>"
      ]
    },
    {
      "cell_type": "markdown",
      "metadata": {
        "id": "-hxvCtryelBV"
      },
      "source": [
        "### Klaviyo Exercise\n",
        "In order to reduce bias, we have anonymized this step of the interview process. Please do not deanonymize yourself in this jupyter notebook."
      ]
    },
    {
      "cell_type": "markdown",
      "metadata": {
        "id": "YKuYWXSLelBW"
      },
      "source": [
        "### Exercise 1\n",
        "We have provided a sqlite3 database named `exercise.db`. The schema of the relevant table is written here: \n",
        "\n",
        "```CREATE TABLE items (sku INT PRIMARY KEY, name VARCHAR, price INT)```\n",
        "\n",
        "Print the name and SKU of each item in the table which has a price over $1. Assume price is in cents. Perform all data processing in the database."
      ]
    },
    {
      "cell_type": "code",
      "metadata": {
        "colab": {
          "base_uri": "https://localhost:8080/",
          "height": 142
        },
        "id": "iW1HYvWqelBW",
        "outputId": "c43472f0-2184-468f-ee34-79b3dd492dd7"
      },
      "source": [
        "import pandas as pd\n",
        "import sqlite3\n",
        "\n",
        "db_conn  = sqlite3.connect('exercise.db')\n",
        "df = pd.read_sql_query(\"SELECT sku,name from items WHERE price > 100\",db_conn)\n",
        "\n",
        "df.head()"
      ],
      "execution_count": 11,
      "outputs": [
        {
          "output_type": "execute_result",
          "data": {
            "text/html": [
              "<div>\n",
              "<style scoped>\n",
              "    .dataframe tbody tr th:only-of-type {\n",
              "        vertical-align: middle;\n",
              "    }\n",
              "\n",
              "    .dataframe tbody tr th {\n",
              "        vertical-align: top;\n",
              "    }\n",
              "\n",
              "    .dataframe thead th {\n",
              "        text-align: right;\n",
              "    }\n",
              "</style>\n",
              "<table border=\"1\" class=\"dataframe\">\n",
              "  <thead>\n",
              "    <tr style=\"text-align: right;\">\n",
              "      <th></th>\n",
              "      <th>sku</th>\n",
              "      <th>name</th>\n",
              "    </tr>\n",
              "  </thead>\n",
              "  <tbody>\n",
              "    <tr>\n",
              "      <th>0</th>\n",
              "      <td>1</td>\n",
              "      <td>apple</td>\n",
              "    </tr>\n",
              "    <tr>\n",
              "      <th>1</th>\n",
              "      <td>3</td>\n",
              "      <td>cherry</td>\n",
              "    </tr>\n",
              "    <tr>\n",
              "      <th>2</th>\n",
              "      <td>4</td>\n",
              "      <td>dates</td>\n",
              "    </tr>\n",
              "  </tbody>\n",
              "</table>\n",
              "</div>"
            ],
            "text/plain": [
              "   sku    name\n",
              "0    1   apple\n",
              "1    3  cherry\n",
              "2    4   dates"
            ]
          },
          "metadata": {
            "tags": []
          },
          "execution_count": 11
        }
      ]
    },
    {
      "cell_type": "markdown",
      "metadata": {
        "id": "VDqw8gV4elBW"
      },
      "source": [
        "### Exercise 2\n",
        "The below code fails when total_cost is given a ShoppingList with an empty array of items. Write an assertion that fails because of this bug, and then modify the functions to fix the bug and make your assertion pass. "
      ]
    },
    {
      "cell_type": "code",
      "metadata": {
        "id": "ML4nbA2TelBW"
      },
      "source": [
        "class ShoppingList:\n",
        "    def __init__(self, store, items):\n",
        "        self.store = store\n",
        "        self.items = items\n",
        "\n",
        "class Item:\n",
        "    def __init__(self, name, price):\n",
        "        self.name = name\n",
        "        self.price = price\n",
        "        \n",
        "def total_cost(shopping_lists):\n",
        "    \"\"\"Given a list of ShoppingList, returns the total cost of the shopping lists, \n",
        "    or None if the input list is empty\"\"\"\n",
        "    if not shopping_lists:\n",
        "        return None\n",
        "    sum_so_far = 0\n",
        "    for shopping_list in shopping_lists:\n",
        "        if shopping_list.items != []: \n",
        "          \"\"\"The if statement above checks if the lisst items is empty or not,\n",
        "          If the list is empty, then its cost is 0.\"\"\"\n",
        "          sum_so_far += _shopping_list_cost(shopping_list.items)\n",
        "    return sum_so_far\n",
        "\n",
        "def _shopping_list_cost(shopping_list):\n",
        "    \"\"\"Given a list of Items, returns the total cost of that shopping list.\"\"\"\n",
        "    if not shopping_list:\n",
        "        return None\n",
        "    sum_so_far = 0\n",
        "    for item in shopping_list:\n",
        "        sum_so_far += item.price\n",
        "    return sum_so_far\n",
        "\n",
        "apple = Item(\"apple\", 1.23)\n",
        "almonds = Item(\"almonds\", 7.99)\n",
        "artichoke = Item(\"artichoke\", 4.99)\n",
        "shopping_list1 = ShoppingList(\"trader joe's\", [apple, almonds])\n",
        "\n",
        "assert total_cost([shopping_list1]) == 1.23 + 7.99"
      ],
      "execution_count": 12,
      "outputs": []
    },
    {
      "cell_type": "code",
      "metadata": {
        "id": "MfIBYUcWelBX"
      },
      "source": [
        "shopping_list1 = ShoppingList(\"trader joe's\", [])\n",
        "assert total_cost([]) == None \n",
        "assert total_cost([shopping_list1]) == 0"
      ],
      "execution_count": 13,
      "outputs": []
    },
    {
      "cell_type": "markdown",
      "metadata": {
        "id": "mrdB6MdmelBX"
      },
      "source": [
        "### Exercise 3\n",
        "The code for Exercise 2 requires refactoring. Once you have fixed the bug, copy the fixed code below and modify it for clarity, conciseness, and simplicity. \n",
        "When refactoring, ensure that `total_cost` functions exactly the same as before, but feel free to change anything else."
      ]
    },
    {
      "cell_type": "code",
      "metadata": {
        "id": "RpQs7JR6elBX"
      },
      "source": [
        "def total_cost(shopping_lists):\n",
        "    \"\"\"Given a list of ShoppingList, returns the total cost of the shopping lists, \n",
        "    or None if the input list is empty\"\"\"\n",
        "    net_cost = 0\n",
        "    if not shopping_lists:\n",
        "        return None\n",
        "    for shopping_list in shopping_lists:\n",
        "        if shopping_list.items != []:\n",
        "          items_list = shopping_list.items\n",
        "          items_cost = 0\n",
        "          for item in items_list:\n",
        "            if item.price and item.price != '':\n",
        "              items_cost += item.price\n",
        "          net_cost += items_cost\n",
        "    return net_cost\n",
        "\n",
        "\n",
        "apple = Item(\"apple\", 1.23)\n",
        "almonds = Item(\"almonds\", 7.99)\n",
        "shopping_list1 = ShoppingList(\"trader joe's\", [apple, almonds])\n",
        "shopping_list2 = ShoppingList(\"trader joe's\", [])\n",
        "\n",
        "assert total_cost([]) == None \n",
        "assert total_cost([shopping_list1]) == 9.22\n",
        "assert total_cost([shopping_list2]) == 0\n",
        "assert total_cost([shopping_list1,shopping_list2]) == 9.22"
      ],
      "execution_count": 14,
      "outputs": []
    },
    {
      "cell_type": "markdown",
      "metadata": {
        "id": "ZC2pSaBdelBX"
      },
      "source": [
        "### Person Class\n",
        "The next exercise uses the following `Person` class. \n",
        "Each `Person` object is the root node of their (partially filled out) ancestor tree.\n",
        "\n",
        "With the exception of the arguments to the `__init__` function, feel free to make changes to the class."
      ]
    },
    {
      "cell_type": "code",
      "metadata": {
        "id": "uPJ23U0FelBY"
      },
      "source": [
        "import datetime\n",
        "from typing import Optional\n",
        "\n",
        "class Person:\n",
        "    name: str\n",
        "    date_of_birth: datetime.date\n",
        "    mother: None\n",
        "    father: None\n",
        "        \n",
        "    def __init__(self, name, date_of_birth, mother, father):\n",
        "        self.name = name\n",
        "        self.date_of_birth = date_of_birth\n",
        "        self.mother = mother\n",
        "        self.father = father"
      ],
      "execution_count": 15,
      "outputs": []
    },
    {
      "cell_type": "markdown",
      "metadata": {
        "id": "XVAVNKcvelBY"
      },
      "source": [
        "### Exercise 4\n",
        "Fill in the following method that navigates a person's ancestor tree using a sequence of instructions. \n",
        "\n",
        "The function returns the name of the person that matches the instructions if such a person exists and `None` otherwise.\n",
        "\n",
        "The sequence will be a list of `\"mom\"` and `\"dad\"` instructions.\n",
        "Starting from the beginning of the list, each instruction determines which parent path to follow.\n",
        "\n",
        "So, a sequence of `[\"mom\", \"dad\"]` would mean that we're looking for a person's mom's dad (maternal grandfather)."
      ]
    },
    {
      "cell_type": "code",
      "metadata": {
        "id": "-r_kpdLOelBY"
      },
      "source": [
        "from typing import List, Optional  # If you are running python <3.8, Literal is imported \n",
        "from typing_extensions import Literal\n",
        "\n",
        "Instructions = Literal[\"mom\", \"dad\"]\n",
        "\n",
        "def get_ancestor(person: Person, instructions: List[Instructions]) -> Optional[str]:\n",
        "    curr = person\n",
        "    for i in instructions:\n",
        "      #print(i)\n",
        "      if i == \"mom\":\n",
        "          if curr.mother != None:\n",
        "            curr = person.mother\n",
        "          else:\n",
        "            curr = None\n",
        "\n",
        "      if i == \"dad\":\n",
        "        if curr.father != None:\n",
        "          curr = person.father\n",
        "        else:\n",
        "          curr = None\n",
        "\n",
        "    if curr == person or curr == None:\n",
        "        return None\n",
        "    else:\n",
        "        return curr.name"
      ],
      "execution_count": 16,
      "outputs": []
    },
    {
      "cell_type": "code",
      "metadata": {
        "id": "OkKSLU7TelBY"
      },
      "source": [
        "mom = Person(\"person's mother, a highly unlikely name\", datetime.date(1960, 10, 1), None, None)\n",
        "dad = Person(\"person's father, a similarly unlikely name\", datetime.date(1965, 10, 1), None, None)\n",
        "person = Person(\"person\", datetime.date(1995, 10, 1), mom, dad)\n",
        "\n",
        "assert get_ancestor(person, [\"mom\"]) == \"person's mother, a highly unlikely name\"\n",
        "assert get_ancestor(person, [\"mom\", \"mom\"]) == None"
      ],
      "execution_count": 17,
      "outputs": []
    }
  ]
}